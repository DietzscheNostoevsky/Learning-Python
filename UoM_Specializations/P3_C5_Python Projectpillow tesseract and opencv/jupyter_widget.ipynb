{
 "cells": [
  {
   "cell_type": "code",
   "execution_count": 1,
   "metadata": {},
   "outputs": [
    {
     "data": {
      "application/vnd.jupyter.widget-view+json": {
       "model_id": "78b463eec2be43608b6955f7204f5468",
       "version_major": 2,
       "version_minor": 0
      },
      "text/plain": [
       "interactive(children=(IntSlider(value=100, description='left', max=300, min=-100), IntSlider(value=100, descri…"
      ]
     },
     "metadata": {},
     "output_type": "display_data"
    }
   ],
   "source": [
    "# making a crop location rectangel widget in jupyeter \n",
    "\n",
    "from PIL import Image,ImageDraw\n",
    "from ipywidgets import interact\n",
    "image = Image.open('Files/home/jovyan/work/readonly/storefront.jpg')\n",
    "\n",
    "# using @ to wrap \n",
    "\n",
    "@interact(left = 100, top = 100 , right = 200 , bottom = 200)\n",
    "\n",
    "def draw_border(left,top, right, bottom):\n",
    "    img = image.copy()\n",
    "    drawing_object = ImageDraw.Draw(img)\n",
    "    drawing_object.rectangle((left,top,right,bottom),fill= None , outline='red')\n",
    "    display(img)\n",
    "    \n",
    "\n"
   ]
  },
  {
   "cell_type": "code",
   "execution_count": null,
   "metadata": {},
   "outputs": [],
   "source": []
  }
 ],
 "metadata": {
  "interpreter": {
   "hash": "aee8b7b246df8f9039afb4144a1f6fd8d2ca17a180786b69acc140d282b71a49"
  },
  "kernelspec": {
   "display_name": "Python 3.9.6 64-bit",
   "language": "python",
   "name": "python3"
  },
  "language_info": {
   "codemirror_mode": {
    "name": "ipython",
    "version": 3
   },
   "file_extension": ".py",
   "mimetype": "text/x-python",
   "name": "python",
   "nbconvert_exporter": "python",
   "pygments_lexer": "ipython3",
   "version": "3.9.6"
  },
  "orig_nbformat": 4
 },
 "nbformat": 4,
 "nbformat_minor": 2
}
