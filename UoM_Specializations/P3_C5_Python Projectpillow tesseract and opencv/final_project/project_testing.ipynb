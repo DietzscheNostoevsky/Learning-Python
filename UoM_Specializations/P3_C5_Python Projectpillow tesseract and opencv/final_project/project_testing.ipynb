{
 "cells": [
  {
   "cell_type": "code",
   "execution_count": null,
   "metadata": {},
   "outputs": [],
   "source": [
    "# Lets start by detecting if we can detect text in the image using tessaract "
   ]
  },
  {
   "cell_type": "code",
   "execution_count": 4,
   "metadata": {},
   "outputs": [],
   "source": [
    "import pytesseract\n",
    "import PIL\n",
    "from PIL import Image\n"
   ]
  },
  {
   "cell_type": "code",
   "execution_count": 5,
   "metadata": {},
   "outputs": [],
   "source": [
    "# testing image a1 for OCR \n",
    "img = Image.open('readonly/small_img/a-0.png')\n",
    "img.show()"
   ]
  },
  {
   "cell_type": "code",
   "execution_count": 7,
   "metadata": {},
   "outputs": [
    {
     "name": "stdout",
     "output_type": "stream",
     "text": [
      "found\n"
     ]
    }
   ],
   "source": [
    "text = pytesseract.image_to_string(img) \n",
    "if \"Christopher\" in text:\n",
    "    print(\"found\")\n"
   ]
  },
  {
   "cell_type": "code",
   "execution_count": 8,
   "metadata": {},
   "outputs": [
    {
     "name": "stdout",
     "output_type": "stream",
     "text": [
      "File : readonly/small_img/a-0.png\n",
      "found\n",
      "File : readonly/small_img/a-3.png\n",
      "found\n"
     ]
    }
   ],
   "source": [
    "# lets test all images in file for text \"Christopher\"\n",
    "\n",
    "for i in range(4):\n",
    "    filename = f'readonly/small_img/a-{i}.png'\n",
    "    img = Image.open(filename)\n",
    "    text = pytesseract.image_to_string(img)\n",
    "    if \"Christopher\" in text:\n",
    "        print(\"File :\" , filename)\n",
    "        print(\"found\")\n",
    "    \n"
   ]
  },
  {
   "cell_type": "code",
   "execution_count": 10,
   "metadata": {},
   "outputs": [
    {
     "name": "stdout",
     "output_type": "stream",
     "text": [
      "processing file : a-0.png\n",
      "Mark found\n",
      "----------------------------------------------------\n",
      "processing file : a-1.png\n",
      "Mark found\n",
      "----------------------------------------------------\n",
      "processing file : a-2.png\n",
      "Mark found\n",
      "----------------------------------------------------\n",
      "processing file : a-3.png\n",
      "Mark found\n",
      "----------------------------------------------------\n",
      "processing file : a-4.png\n",
      "Mark not in file\n",
      "----------------------------------------------------\n",
      "processing file : a-5.png\n",
      "Mark not in file\n",
      "----------------------------------------------------\n",
      "processing file : a-6.png\n",
      "Mark not in file\n",
      "----------------------------------------------------\n",
      "processing file : a-7.png\n",
      "Mark not in file\n",
      "----------------------------------------------------\n",
      "processing file : a-8.png\n",
      "Mark found\n",
      "----------------------------------------------------\n",
      "processing file : a-9.png\n",
      "Mark not in file\n",
      "----------------------------------------------------\n",
      "processing file : a-10.png\n",
      "Mark found\n",
      "----------------------------------------------------\n",
      "processing file : a-11.png\n",
      "Mark not in file\n",
      "----------------------------------------------------\n",
      "processing file : a-12.png\n",
      "Mark not in file\n",
      "----------------------------------------------------\n",
      "processing file : a-13.png\n",
      "Mark found\n",
      "----------------------------------------------------\n"
     ]
    }
   ],
   "source": [
    "# above output shows OCR is wroking without kraken, no need to complicate the code. Its showing Christopher is in image a1 and a3. \n",
    "# lets search for mark in large file \n",
    "# mark should be in files 0,1,2,3,8,10,13 only \n",
    "for i in range(14):\n",
    "    filename = f'readonly/images/a-{i}.png'\n",
    "    img = Image.open(filename)\n",
    "    print(f'processing file : a-{i}.png')\n",
    "    text = pytesseract.image_to_string(img)\n",
    "    if \"Mark\" in text:\n",
    "        print(\"Mark found\")\n",
    "    else:\n",
    "        print(\"Mark not in file\")\n",
    "    print(\"----------------------------------------------------\")\n",
    "    \n",
    " \n",
    "    \n"
   ]
  },
  {
   "cell_type": "code",
   "execution_count": 14,
   "metadata": {},
   "outputs": [],
   "source": [
    "# Output shows that mark found in required files only. So no need to use kraken , tessaract is working fine.  \n",
    "\n",
    "# Now have to extract the face images from each image and make a dictionary \n",
    "\n",
    "from PIL import ImageDraw\n",
    "from PIL import Image\n",
    "import cv2 as cv\n",
    "\n",
    "cv_img = cv.imread('readonly/small_img/a-0.png')\n",
    "face_cascade = cv.CascadeClassifier(\n",
    "    'readonly/haarcascade_frontalface_default.xml')\n",
    "\n"
   ]
  },
  {
   "cell_type": "code",
   "execution_count": 15,
   "metadata": {},
   "outputs": [],
   "source": [
    "cv_img_bin = cv.threshold(cv_img,120,255,cv.THRESH_BINARY)[1]\n",
    "#  OpenCV is return the coordinates as (x,y,w,h), \n",
    "#  while PIL.ImageDraw is looking for (x1,y1,x2,y2).\n",
    "\n",
    "face_coordinates = face_cascade.detectMultiScale(cv_img_bin)\n",
    "# Now lets see the results\n",
    "file_with_faces = Image.open('readonly/small_img/a-0.png')\n",
    "\n"
   ]
  },
  {
   "cell_type": "code",
   "execution_count": null,
   "metadata": {},
   "outputs": [],
   "source": [
    "print(face_coordinates)"
   ]
  },
  {
   "cell_type": "code",
   "execution_count": null,
   "metadata": {},
   "outputs": [],
   "source": [
    "display(crop_faces(face_coordinates,file_with_faces))"
   ]
  },
  {
   "cell_type": "code",
   "execution_count": null,
   "metadata": {},
   "outputs": [],
   "source": [
    "# Generate face coordinates from an Image given threshold\n",
    "def face_coordinate_generator(filepath, threshold):\n",
    "    '''generates coordinates for a face in a given image \n",
    "    :param filepath: File dir path for the image file\n",
    "    :param threshold: threshold value for binarization of file for face detection, out of (0,255)\n",
    "    :return: ndarray of face coordinates in (x,y,w,h) format\n",
    "    '''\n",
    "    import cv2 as cv\n",
    "\n",
    "    cv_img = cv.imread(filepath)\n",
    "    face_cascade = cv.CascadeClassifier(\n",
    "        'readonly/haarcascade_frontalface_default.xml')\n",
    "    cv_img_bin = cv.threshold(cv_img, threshold, 255, cv.THRESH_BINARY)[1]\n",
    "    #  OpenCV is return the coordinates as (x,y,w,h),\n",
    "    face_coordinates = face_cascade.detectMultiScale(cv_img_bin)\n",
    "\n",
    "    return face_coordinates\n"
   ]
  }
 ],
 "metadata": {
  "interpreter": {
   "hash": "aee8b7b246df8f9039afb4144a1f6fd8d2ca17a180786b69acc140d282b71a49"
  },
  "kernelspec": {
   "display_name": "Python 3.9.6 64-bit",
   "language": "python",
   "name": "python3"
  },
  "language_info": {
   "codemirror_mode": {
    "name": "ipython",
    "version": 3
   },
   "file_extension": ".py",
   "mimetype": "text/x-python",
   "name": "python",
   "nbconvert_exporter": "python",
   "pygments_lexer": "ipython3",
   "version": "3.9.6"
  },
  "orig_nbformat": 4
 },
 "nbformat": 4,
 "nbformat_minor": 2
}
