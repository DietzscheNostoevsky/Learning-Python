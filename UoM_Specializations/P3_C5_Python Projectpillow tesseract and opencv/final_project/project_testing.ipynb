{
 "cells": [
  {
   "cell_type": "code",
   "execution_count": null,
   "metadata": {},
   "outputs": [],
   "source": [
    "# Lets start by detecting if we can detect text in the image using tessaract "
   ]
  },
  {
   "cell_type": "code",
   "execution_count": 2,
   "metadata": {},
   "outputs": [],
   "source": [
    "import pytesseract\n",
    "import PIL\n",
    "from PIL import Image\n"
   ]
  },
  {
   "cell_type": "code",
   "execution_count": 6,
   "metadata": {},
   "outputs": [],
   "source": [
    "# testing image a1 for OCR \n",
    "img = Image.open('readonly/small_img/a-0.png')\n",
    "img.show()"
   ]
  },
  {
   "cell_type": "code",
   "execution_count": 7,
   "metadata": {},
   "outputs": [
    {
     "name": "stdout",
     "output_type": "stream",
     "text": [
      "found\n"
     ]
    }
   ],
   "source": [
    "text = pytesseract.image_to_string(img) \n",
    "if \"Christopher\" in text:\n",
    "    print(\"found\")\n"
   ]
  },
  {
   "cell_type": "code",
   "execution_count": 8,
   "metadata": {},
   "outputs": [
    {
     "name": "stdout",
     "output_type": "stream",
     "text": [
      "File : readonly/small_img/a-0.png\n",
      "found\n",
      "File : readonly/small_img/a-3.png\n",
      "found\n"
     ]
    }
   ],
   "source": [
    "# lets test all images in file for text \"Christopher\"\n",
    "\n",
    "for i in range(4):\n",
    "    filename = f'readonly/small_img/a-{i}.png'\n",
    "    img = Image.open(filename)\n",
    "    text = pytesseract.image_to_string(img)\n",
    "    if \"Christopher\" in text:\n",
    "        print(\"File :\" , filename)\n",
    "        print(\"found\")\n",
    "    \n"
   ]
  },
  {
   "cell_type": "code",
   "execution_count": 10,
   "metadata": {},
   "outputs": [
    {
     "name": "stdout",
     "output_type": "stream",
     "text": [
      "processing file : a-0.png\n",
      "Mark found\n",
      "----------------------------------------------------\n",
      "processing file : a-1.png\n",
      "Mark found\n",
      "----------------------------------------------------\n",
      "processing file : a-2.png\n",
      "Mark found\n",
      "----------------------------------------------------\n",
      "processing file : a-3.png\n",
      "Mark found\n",
      "----------------------------------------------------\n",
      "processing file : a-4.png\n",
      "Mark not in file\n",
      "----------------------------------------------------\n",
      "processing file : a-5.png\n",
      "Mark not in file\n",
      "----------------------------------------------------\n",
      "processing file : a-6.png\n",
      "Mark not in file\n",
      "----------------------------------------------------\n",
      "processing file : a-7.png\n",
      "Mark not in file\n",
      "----------------------------------------------------\n",
      "processing file : a-8.png\n",
      "Mark found\n",
      "----------------------------------------------------\n",
      "processing file : a-9.png\n",
      "Mark not in file\n",
      "----------------------------------------------------\n",
      "processing file : a-10.png\n",
      "Mark found\n",
      "----------------------------------------------------\n",
      "processing file : a-11.png\n",
      "Mark not in file\n",
      "----------------------------------------------------\n",
      "processing file : a-12.png\n",
      "Mark not in file\n",
      "----------------------------------------------------\n",
      "processing file : a-13.png\n",
      "Mark found\n",
      "----------------------------------------------------\n"
     ]
    }
   ],
   "source": [
    "# above output shows OCR is wroking without kraken, no need to complicate the code. Its showing Christopher is in image a1 and a3. \n",
    "# lets search for mark in large file \n",
    "# mark should be in files 0,1,2,3,8,10,13 only \n",
    "for i in range(14):\n",
    "    filename = f'readonly/images/a-{i}.png'\n",
    "    img = Image.open(filename)\n",
    "    print(f'processing file : a-{i}.png')\n",
    "    text = pytesseract.image_to_string(img)\n",
    "    if \"Mark\" in text:\n",
    "        print(\"Mark found\")\n",
    "    else:\n",
    "        print(\"Mark not in file\")\n",
    "    print(\"----------------------------------------------------\")\n",
    "    \n",
    " \n",
    "    \n"
   ]
  },
  {
   "cell_type": "code",
   "execution_count": null,
   "metadata": {},
   "outputs": [],
   "source": [
    "# Output shows that mark found in required files only. So no need to use kraken , tessaract is working fine.  \n",
    "\n",
    "# Now have to extract the face images from each image and make a dictionary "
   ]
  }
 ],
 "metadata": {
  "interpreter": {
   "hash": "aee8b7b246df8f9039afb4144a1f6fd8d2ca17a180786b69acc140d282b71a49"
  },
  "kernelspec": {
   "display_name": "Python 3.9.6 64-bit",
   "language": "python",
   "name": "python3"
  },
  "language_info": {
   "codemirror_mode": {
    "name": "ipython",
    "version": 3
   },
   "file_extension": ".py",
   "mimetype": "text/x-python",
   "name": "python",
   "nbconvert_exporter": "python",
   "pygments_lexer": "ipython3",
   "version": "3.9.6"
  },
  "orig_nbformat": 4
 },
 "nbformat": 4,
 "nbformat_minor": 2
}
