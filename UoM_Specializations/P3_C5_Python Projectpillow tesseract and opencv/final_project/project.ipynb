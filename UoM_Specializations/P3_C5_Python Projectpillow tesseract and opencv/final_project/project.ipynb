{
 "cells": [
  {
   "cell_type": "markdown",
   "metadata": {},
   "source": [
    "# The Project #\n",
    "1. This is a project with minimal scaffolding. Expect to use the the discussion forums to gain insights! It’s not cheating to ask others for opinions or perspectives!\n",
    "2. Be inquisitive, try out new things.\n",
    "3. Use the previous modules for insights into how to complete the functions! You'll have to combine Pillow, OpenCV, and Pytesseract\n",
    "4. There are hints provided in Coursera, feel free to explore the hints if needed. Each hint provide progressively more details on how to solve the issue. This project is intended to be comprehensive and difficult if you do it without the hints.\n",
    "\n",
    "### The Assignment ###\n",
    "Take a [ZIP file](https://en.wikipedia.org/wiki/Zip_(file_format)) of images and process them, using a [library built into python](https://docs.python.org/3/library/zipfile.html) that you need to learn how to use. A ZIP file takes several different files and compresses them, thus saving space, into one single file. The files in the ZIP file we provide are newspaper images (like you saw in week 3). Your task is to write python code which allows one to search through the images looking for the occurrences of keywords and faces. E.g. if you search for \"pizza\" it will return a contact sheet of all of the faces which were located on the newspaper page which mentions \"pizza\". This will test your ability to learn a new ([library](https://docs.python.org/3/library/zipfile.html)), your ability to use OpenCV to detect faces, your ability to use tesseract to do optical character recognition, and your ability to use PIL to composite images together into contact sheets.\n",
    "\n",
    "Each page of the newspapers is saved as a single PNG image in a file called [images.zip](./readonly/images.zip). These newspapers are in english, and contain a variety of stories, advertisements and images. Note: This file is fairly large (~200 MB) and may take some time to work with, I would encourage you to use [small_img.zip](./readonly/small_img.zip) for testing.\n",
    "\n",
    "Here's an example of the output expected. Using the [small_img.zip](./readonly/small_img.zip) file, if I search for the string \"Christopher\" I should see the following image:\n",
    "![Christopher Search](./readonly/small_project.png)\n",
    "If I were to use the [images.zip](./readonly/images.zip) file and search for \"Mark\" I should see the following image (note that there are times when there are no faces on a page, but a word is found!):\n",
    "![Mark Search](./readonly/large_project.png)\n",
    "\n",
    "Note: That big file can take some time to process - for me it took nearly ten minutes! Use the small one for testing."
   ]
  },
  {
   "cell_type": "code",
   "execution_count": null,
   "metadata": {},
   "outputs": [],
   "source": [
    "import zipfile\n",
    "\n",
    "from PIL import Image\n",
    "import pytesseract\n",
    "import cv2 as cv\n",
    "import numpy as np\n",
    "\n",
    "# loading the face detection classifier\n",
    "face_cascade = cv.CascadeClassifier('readonly/haarcascade_frontalface_default.xml')\n",
    "\n",
    "# the rest is up to you!"
   ]
  },
  {
   "cell_type": "markdown",
   "metadata": {},
   "source": [
    "Face detection function from a given file in the zip folder "
   ]
  },
  {
   "cell_type": "code",
   "execution_count": null,
   "metadata": {},
   "outputs": [],
   "source": [
    "# Generate face coordinates from an Image given threshold\n",
    "def face_coordinate_generator(filepath):\n",
    "    '''generates coordinates for a face in a given image with faces\n",
    "    :param filepath: File dir path for the image file\n",
    "    :return: ndarray of face coordinates in (x,y,w,h) format\n",
    "    '''\n",
    "    import cv2 as cv\n",
    "    # After lots of testing, use the following parameters for testing :\n",
    "    # Scale = 1.35\n",
    "    # min neighbours = 5 in face cascade function\n",
    "\n",
    "    image_with_faces = cv.imread(filepath)\n",
    "    face_cascade = cv.CascadeClassifier(\n",
    "        'readonly/haarcascade_frontalface_default.xml')\n",
    "    \n",
    "    #  OpenCV is return the coordinates as (x,y,w,h)\n",
    "    face_coordinates = face_cascade.detectMultiScale(np.array(image_with_faces), 1.35, 5)\n",
    "\n",
    "    return face_coordinates\n"
   ]
  },
  {
   "cell_type": "markdown",
   "metadata": {},
   "source": [
    "Contact sheet of faces generator from a given file "
   ]
  },
  {
   "cell_type": "code",
   "execution_count": null,
   "metadata": {},
   "outputs": [],
   "source": [
    "# function to generate contact sheet of all faces from a given PIL image and face coordinates\n",
    "def contactsheet_faces(face_coordinates, file_with_faces):\n",
    "    '''given face coordinates and file on which faces are, returns a contactsheet containg all the faces in the file\n",
    "    :param face_coordinates: A ndarray with all the face coordinates generated from openCV \n",
    "    :param file_with_faces: PIL Image on which faces are\n",
    "    :return : a PIL image containing all the faces \n",
    "    '''\n",
    "    from PIL import Image\n",
    "    pil_img = file_with_faces\n",
    "    allfaces = []\n",
    "\n",
    "    MAX_SIZE = (100, 100)  # thumbain size (width,length)\n",
    "    for x, y, w, h in face_coordinates:\n",
    "\n",
    "        single_face = pil_img.crop((x, y, x+w, y+h))\n",
    "\n",
    "        single_face.thumbnail(MAX_SIZE)\n",
    "        allfaces.append(single_face)\n",
    "\n",
    "    if len(allfaces) == 0:\n",
    "        print(\"NO FACES IN FILE\")\n",
    "        return None\n",
    "\n",
    "    # create a contact sheet\n",
    "    images_in_row = 5\n",
    "    contact_sheet = PIL.Image.new(mode=allfaces[0].mode,\n",
    "                                  size=(MAX_SIZE[0]*images_in_row, (MAX_SIZE[1]*((len(allfaces)//images_in_row)+1))))\n",
    "    # Pasting images on contact_sheet\n",
    "    x = 0\n",
    "    y = 0\n",
    "\n",
    "    for img in allfaces:\n",
    "        # Lets paste the current image into the contact sheet\n",
    "        contact_sheet.paste(img, (x, y))\n",
    "        first_image = allfaces[0]\n",
    "        # Now we update our X position. If it is going to be the width of the image, then we set it to 0\n",
    "        # and update Y as well to point to the next \"line\" of the contact sheet.\n",
    "        if x+first_image.width == contact_sheet.width:\n",
    "            x = 0\n",
    "            y = y+first_image.height\n",
    "        else:\n",
    "            x = x+first_image.width\n",
    "\n",
    "    return contact_sheet\n"
   ]
  }
 ],
 "metadata": {
  "anaconda-cloud": {},
  "kernelspec": {
   "display_name": "Python 3",
   "language": "python",
   "name": "python3"
  },
  "language_info": {
   "codemirror_mode": {
    "name": "ipython",
    "version": 3
   },
   "file_extension": ".py",
   "mimetype": "text/x-python",
   "name": "python",
   "nbconvert_exporter": "python",
   "pygments_lexer": "ipython3",
   "version": "3.7.1"
  }
 },
 "nbformat": 4,
 "nbformat_minor": 2
}
