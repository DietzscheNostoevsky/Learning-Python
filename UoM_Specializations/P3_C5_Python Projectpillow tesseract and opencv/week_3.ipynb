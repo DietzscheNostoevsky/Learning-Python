{
 "cells": [
  {
   "cell_type": "code",
   "execution_count": null,
   "metadata": {},
   "outputs": [],
   "source": [
    "# Kraken Library \n",
    "\n",
    "# Detect lines of text as a bounding box in a given image : Kraken \n",
    "# Tessaract doesnt have a layout engine, so wants a good clean text\n",
    "# kraken to bisegment images "
   ]
  }
 ],
 "metadata": {
  "language_info": {
   "name": "python"
  },
  "orig_nbformat": 4
 },
 "nbformat": 4,
 "nbformat_minor": 2
}
